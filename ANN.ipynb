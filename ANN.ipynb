{
  "nbformat": 4,
  "nbformat_minor": 0,
  "metadata": {
    "colab": {
      "name": "Untitled0.ipynb",
      "provenance": [],
      "authorship_tag": "ABX9TyPbDOYYbwAaFwUdU0Rx72j8",
      "include_colab_link": true
    },
    "kernelspec": {
      "name": "python3",
      "display_name": "Python 3"
    },
    "language_info": {
      "name": "python"
    }
  },
  "cells": [
    {
      "cell_type": "markdown",
      "metadata": {
        "id": "view-in-github",
        "colab_type": "text"
      },
      "source": [
        "<a href=\"https://colab.research.google.com/github/santoshtbhosale/Deep-Learning/blob/main/ANN.ipynb\" target=\"_parent\"><img src=\"https://colab.research.google.com/assets/colab-badge.svg\" alt=\"Open In Colab\"/></a>"
      ]
    },
    {
      "cell_type": "code",
      "metadata": {
        "colab": {
          "base_uri": "https://localhost:8080/"
        },
        "id": "F4P21B-3JFBX",
        "outputId": "ffc90ae5-a161-4631-b607-0ef5711ecb7d"
      },
      "source": [
        "from google.colab import drive\n",
        "drive.mount('/content/drive')"
      ],
      "execution_count": 2,
      "outputs": [
        {
          "output_type": "stream",
          "name": "stdout",
          "text": [
            "Drive already mounted at /content/drive; to attempt to forcibly remount, call drive.mount(\"/content/drive\", force_remount=True).\n"
          ]
        }
      ]
    },
    {
      "cell_type": "code",
      "metadata": {
        "id": "iOdkiQKXK5Un"
      },
      "source": [
        "import numpy as np\n",
        "import matplotlib.pyplot as plt\n",
        "import pandas as pd"
      ],
      "execution_count": 3,
      "outputs": []
    },
    {
      "cell_type": "code",
      "metadata": {
        "colab": {
          "base_uri": "https://localhost:8080/",
          "height": 224
        },
        "id": "1N2SoQFtK889",
        "outputId": "16afe43a-9294-4357-c899-4974993fe42d"
      },
      "source": [
        "dataset = pd.read_csv('/content/drive/MyDrive/Churn_Modelling.csv')\n",
        "dataset.head()"
      ],
      "execution_count": 4,
      "outputs": [
        {
          "output_type": "execute_result",
          "data": {
            "text/html": [
              "<div>\n",
              "<style scoped>\n",
              "    .dataframe tbody tr th:only-of-type {\n",
              "        vertical-align: middle;\n",
              "    }\n",
              "\n",
              "    .dataframe tbody tr th {\n",
              "        vertical-align: top;\n",
              "    }\n",
              "\n",
              "    .dataframe thead th {\n",
              "        text-align: right;\n",
              "    }\n",
              "</style>\n",
              "<table border=\"1\" class=\"dataframe\">\n",
              "  <thead>\n",
              "    <tr style=\"text-align: right;\">\n",
              "      <th></th>\n",
              "      <th>RowNumber</th>\n",
              "      <th>CustomerId</th>\n",
              "      <th>Surname</th>\n",
              "      <th>CreditScore</th>\n",
              "      <th>Geography</th>\n",
              "      <th>Gender</th>\n",
              "      <th>Age</th>\n",
              "      <th>Tenure</th>\n",
              "      <th>Balance</th>\n",
              "      <th>NumOfProducts</th>\n",
              "      <th>HasCrCard</th>\n",
              "      <th>IsActiveMember</th>\n",
              "      <th>EstimatedSalary</th>\n",
              "      <th>Exited</th>\n",
              "    </tr>\n",
              "  </thead>\n",
              "  <tbody>\n",
              "    <tr>\n",
              "      <th>0</th>\n",
              "      <td>1</td>\n",
              "      <td>15634602</td>\n",
              "      <td>Hargrave</td>\n",
              "      <td>619</td>\n",
              "      <td>France</td>\n",
              "      <td>Female</td>\n",
              "      <td>42</td>\n",
              "      <td>2</td>\n",
              "      <td>0.00</td>\n",
              "      <td>1</td>\n",
              "      <td>1</td>\n",
              "      <td>1</td>\n",
              "      <td>101348.88</td>\n",
              "      <td>1</td>\n",
              "    </tr>\n",
              "    <tr>\n",
              "      <th>1</th>\n",
              "      <td>2</td>\n",
              "      <td>15647311</td>\n",
              "      <td>Hill</td>\n",
              "      <td>608</td>\n",
              "      <td>Spain</td>\n",
              "      <td>Female</td>\n",
              "      <td>41</td>\n",
              "      <td>1</td>\n",
              "      <td>83807.86</td>\n",
              "      <td>1</td>\n",
              "      <td>0</td>\n",
              "      <td>1</td>\n",
              "      <td>112542.58</td>\n",
              "      <td>0</td>\n",
              "    </tr>\n",
              "    <tr>\n",
              "      <th>2</th>\n",
              "      <td>3</td>\n",
              "      <td>15619304</td>\n",
              "      <td>Onio</td>\n",
              "      <td>502</td>\n",
              "      <td>France</td>\n",
              "      <td>Female</td>\n",
              "      <td>42</td>\n",
              "      <td>8</td>\n",
              "      <td>159660.80</td>\n",
              "      <td>3</td>\n",
              "      <td>1</td>\n",
              "      <td>0</td>\n",
              "      <td>113931.57</td>\n",
              "      <td>1</td>\n",
              "    </tr>\n",
              "    <tr>\n",
              "      <th>3</th>\n",
              "      <td>4</td>\n",
              "      <td>15701354</td>\n",
              "      <td>Boni</td>\n",
              "      <td>699</td>\n",
              "      <td>France</td>\n",
              "      <td>Female</td>\n",
              "      <td>39</td>\n",
              "      <td>1</td>\n",
              "      <td>0.00</td>\n",
              "      <td>2</td>\n",
              "      <td>0</td>\n",
              "      <td>0</td>\n",
              "      <td>93826.63</td>\n",
              "      <td>0</td>\n",
              "    </tr>\n",
              "    <tr>\n",
              "      <th>4</th>\n",
              "      <td>5</td>\n",
              "      <td>15737888</td>\n",
              "      <td>Mitchell</td>\n",
              "      <td>850</td>\n",
              "      <td>Spain</td>\n",
              "      <td>Female</td>\n",
              "      <td>43</td>\n",
              "      <td>2</td>\n",
              "      <td>125510.82</td>\n",
              "      <td>1</td>\n",
              "      <td>1</td>\n",
              "      <td>1</td>\n",
              "      <td>79084.10</td>\n",
              "      <td>0</td>\n",
              "    </tr>\n",
              "  </tbody>\n",
              "</table>\n",
              "</div>"
            ],
            "text/plain": [
              "   RowNumber  CustomerId   Surname  ...  IsActiveMember EstimatedSalary Exited\n",
              "0          1    15634602  Hargrave  ...               1       101348.88      1\n",
              "1          2    15647311      Hill  ...               1       112542.58      0\n",
              "2          3    15619304      Onio  ...               0       113931.57      1\n",
              "3          4    15701354      Boni  ...               0        93826.63      0\n",
              "4          5    15737888  Mitchell  ...               1        79084.10      0\n",
              "\n",
              "[5 rows x 14 columns]"
            ]
          },
          "metadata": {},
          "execution_count": 4
        }
      ]
    },
    {
      "cell_type": "code",
      "metadata": {
        "id": "8QMbxA1ZLEyf"
      },
      "source": [
        "X = dataset.iloc[:, 3:13]\n",
        "y = dataset.iloc[:, 13]"
      ],
      "execution_count": 5,
      "outputs": []
    },
    {
      "cell_type": "code",
      "metadata": {
        "colab": {
          "base_uri": "https://localhost:8080/",
          "height": 204
        },
        "id": "z8mwNgyQLR18",
        "outputId": "89012752-62e3-4b3f-a067-4ff8ce0b52b0"
      },
      "source": [
        "X.head()"
      ],
      "execution_count": 6,
      "outputs": [
        {
          "output_type": "execute_result",
          "data": {
            "text/html": [
              "<div>\n",
              "<style scoped>\n",
              "    .dataframe tbody tr th:only-of-type {\n",
              "        vertical-align: middle;\n",
              "    }\n",
              "\n",
              "    .dataframe tbody tr th {\n",
              "        vertical-align: top;\n",
              "    }\n",
              "\n",
              "    .dataframe thead th {\n",
              "        text-align: right;\n",
              "    }\n",
              "</style>\n",
              "<table border=\"1\" class=\"dataframe\">\n",
              "  <thead>\n",
              "    <tr style=\"text-align: right;\">\n",
              "      <th></th>\n",
              "      <th>CreditScore</th>\n",
              "      <th>Geography</th>\n",
              "      <th>Gender</th>\n",
              "      <th>Age</th>\n",
              "      <th>Tenure</th>\n",
              "      <th>Balance</th>\n",
              "      <th>NumOfProducts</th>\n",
              "      <th>HasCrCard</th>\n",
              "      <th>IsActiveMember</th>\n",
              "      <th>EstimatedSalary</th>\n",
              "    </tr>\n",
              "  </thead>\n",
              "  <tbody>\n",
              "    <tr>\n",
              "      <th>0</th>\n",
              "      <td>619</td>\n",
              "      <td>France</td>\n",
              "      <td>Female</td>\n",
              "      <td>42</td>\n",
              "      <td>2</td>\n",
              "      <td>0.00</td>\n",
              "      <td>1</td>\n",
              "      <td>1</td>\n",
              "      <td>1</td>\n",
              "      <td>101348.88</td>\n",
              "    </tr>\n",
              "    <tr>\n",
              "      <th>1</th>\n",
              "      <td>608</td>\n",
              "      <td>Spain</td>\n",
              "      <td>Female</td>\n",
              "      <td>41</td>\n",
              "      <td>1</td>\n",
              "      <td>83807.86</td>\n",
              "      <td>1</td>\n",
              "      <td>0</td>\n",
              "      <td>1</td>\n",
              "      <td>112542.58</td>\n",
              "    </tr>\n",
              "    <tr>\n",
              "      <th>2</th>\n",
              "      <td>502</td>\n",
              "      <td>France</td>\n",
              "      <td>Female</td>\n",
              "      <td>42</td>\n",
              "      <td>8</td>\n",
              "      <td>159660.80</td>\n",
              "      <td>3</td>\n",
              "      <td>1</td>\n",
              "      <td>0</td>\n",
              "      <td>113931.57</td>\n",
              "    </tr>\n",
              "    <tr>\n",
              "      <th>3</th>\n",
              "      <td>699</td>\n",
              "      <td>France</td>\n",
              "      <td>Female</td>\n",
              "      <td>39</td>\n",
              "      <td>1</td>\n",
              "      <td>0.00</td>\n",
              "      <td>2</td>\n",
              "      <td>0</td>\n",
              "      <td>0</td>\n",
              "      <td>93826.63</td>\n",
              "    </tr>\n",
              "    <tr>\n",
              "      <th>4</th>\n",
              "      <td>850</td>\n",
              "      <td>Spain</td>\n",
              "      <td>Female</td>\n",
              "      <td>43</td>\n",
              "      <td>2</td>\n",
              "      <td>125510.82</td>\n",
              "      <td>1</td>\n",
              "      <td>1</td>\n",
              "      <td>1</td>\n",
              "      <td>79084.10</td>\n",
              "    </tr>\n",
              "  </tbody>\n",
              "</table>\n",
              "</div>"
            ],
            "text/plain": [
              "   CreditScore Geography  Gender  ...  HasCrCard  IsActiveMember  EstimatedSalary\n",
              "0          619    France  Female  ...          1               1        101348.88\n",
              "1          608     Spain  Female  ...          0               1        112542.58\n",
              "2          502    France  Female  ...          1               0        113931.57\n",
              "3          699    France  Female  ...          0               0         93826.63\n",
              "4          850     Spain  Female  ...          1               1         79084.10\n",
              "\n",
              "[5 rows x 10 columns]"
            ]
          },
          "metadata": {},
          "execution_count": 6
        }
      ]
    },
    {
      "cell_type": "code",
      "metadata": {
        "colab": {
          "base_uri": "https://localhost:8080/"
        },
        "id": "xBI827kQLWk1",
        "outputId": "29da0e91-febb-41eb-9b12-7fc34bbab535"
      },
      "source": [
        "y.head()"
      ],
      "execution_count": 7,
      "outputs": [
        {
          "output_type": "execute_result",
          "data": {
            "text/plain": [
              "0    1\n",
              "1    0\n",
              "2    1\n",
              "3    0\n",
              "4    0\n",
              "Name: Exited, dtype: int64"
            ]
          },
          "metadata": {},
          "execution_count": 7
        }
      ]
    },
    {
      "cell_type": "code",
      "metadata": {
        "id": "kY4L969YLrhx"
      },
      "source": [
        "#Create dummy variables\n",
        "geography=pd.get_dummies(X[\"Geography\"],drop_first=True)\n",
        "gender=pd.get_dummies(X['Gender'],drop_first=True)"
      ],
      "execution_count": 8,
      "outputs": []
    },
    {
      "cell_type": "code",
      "metadata": {
        "id": "atgZGFv1L8rC"
      },
      "source": [
        "## Concatenate the Data Frames\n",
        "\n",
        "X=pd.concat([X,geography,gender],axis=1)"
      ],
      "execution_count": 9,
      "outputs": []
    },
    {
      "cell_type": "code",
      "metadata": {
        "id": "BOPOs7-uL_FF"
      },
      "source": [
        "## Drop Unnecessary columns\n",
        "X=X.drop(['Geography','Gender'],axis=1)"
      ],
      "execution_count": 10,
      "outputs": []
    },
    {
      "cell_type": "code",
      "metadata": {
        "colab": {
          "base_uri": "https://localhost:8080/",
          "height": 204
        },
        "id": "4Y8tj1ZnMBhD",
        "outputId": "cba432dd-f107-4ff3-d100-978503a6e8aa"
      },
      "source": [
        "X.head()"
      ],
      "execution_count": 11,
      "outputs": [
        {
          "output_type": "execute_result",
          "data": {
            "text/html": [
              "<div>\n",
              "<style scoped>\n",
              "    .dataframe tbody tr th:only-of-type {\n",
              "        vertical-align: middle;\n",
              "    }\n",
              "\n",
              "    .dataframe tbody tr th {\n",
              "        vertical-align: top;\n",
              "    }\n",
              "\n",
              "    .dataframe thead th {\n",
              "        text-align: right;\n",
              "    }\n",
              "</style>\n",
              "<table border=\"1\" class=\"dataframe\">\n",
              "  <thead>\n",
              "    <tr style=\"text-align: right;\">\n",
              "      <th></th>\n",
              "      <th>CreditScore</th>\n",
              "      <th>Age</th>\n",
              "      <th>Tenure</th>\n",
              "      <th>Balance</th>\n",
              "      <th>NumOfProducts</th>\n",
              "      <th>HasCrCard</th>\n",
              "      <th>IsActiveMember</th>\n",
              "      <th>EstimatedSalary</th>\n",
              "      <th>Germany</th>\n",
              "      <th>Spain</th>\n",
              "      <th>Male</th>\n",
              "    </tr>\n",
              "  </thead>\n",
              "  <tbody>\n",
              "    <tr>\n",
              "      <th>0</th>\n",
              "      <td>619</td>\n",
              "      <td>42</td>\n",
              "      <td>2</td>\n",
              "      <td>0.00</td>\n",
              "      <td>1</td>\n",
              "      <td>1</td>\n",
              "      <td>1</td>\n",
              "      <td>101348.88</td>\n",
              "      <td>0</td>\n",
              "      <td>0</td>\n",
              "      <td>0</td>\n",
              "    </tr>\n",
              "    <tr>\n",
              "      <th>1</th>\n",
              "      <td>608</td>\n",
              "      <td>41</td>\n",
              "      <td>1</td>\n",
              "      <td>83807.86</td>\n",
              "      <td>1</td>\n",
              "      <td>0</td>\n",
              "      <td>1</td>\n",
              "      <td>112542.58</td>\n",
              "      <td>0</td>\n",
              "      <td>1</td>\n",
              "      <td>0</td>\n",
              "    </tr>\n",
              "    <tr>\n",
              "      <th>2</th>\n",
              "      <td>502</td>\n",
              "      <td>42</td>\n",
              "      <td>8</td>\n",
              "      <td>159660.80</td>\n",
              "      <td>3</td>\n",
              "      <td>1</td>\n",
              "      <td>0</td>\n",
              "      <td>113931.57</td>\n",
              "      <td>0</td>\n",
              "      <td>0</td>\n",
              "      <td>0</td>\n",
              "    </tr>\n",
              "    <tr>\n",
              "      <th>3</th>\n",
              "      <td>699</td>\n",
              "      <td>39</td>\n",
              "      <td>1</td>\n",
              "      <td>0.00</td>\n",
              "      <td>2</td>\n",
              "      <td>0</td>\n",
              "      <td>0</td>\n",
              "      <td>93826.63</td>\n",
              "      <td>0</td>\n",
              "      <td>0</td>\n",
              "      <td>0</td>\n",
              "    </tr>\n",
              "    <tr>\n",
              "      <th>4</th>\n",
              "      <td>850</td>\n",
              "      <td>43</td>\n",
              "      <td>2</td>\n",
              "      <td>125510.82</td>\n",
              "      <td>1</td>\n",
              "      <td>1</td>\n",
              "      <td>1</td>\n",
              "      <td>79084.10</td>\n",
              "      <td>0</td>\n",
              "      <td>1</td>\n",
              "      <td>0</td>\n",
              "    </tr>\n",
              "  </tbody>\n",
              "</table>\n",
              "</div>"
            ],
            "text/plain": [
              "   CreditScore  Age  Tenure    Balance  ...  EstimatedSalary  Germany  Spain  Male\n",
              "0          619   42       2       0.00  ...        101348.88        0      0     0\n",
              "1          608   41       1   83807.86  ...        112542.58        0      1     0\n",
              "2          502   42       8  159660.80  ...        113931.57        0      0     0\n",
              "3          699   39       1       0.00  ...         93826.63        0      0     0\n",
              "4          850   43       2  125510.82  ...         79084.10        0      1     0\n",
              "\n",
              "[5 rows x 11 columns]"
            ]
          },
          "metadata": {},
          "execution_count": 11
        }
      ]
    },
    {
      "cell_type": "code",
      "metadata": {
        "id": "mf0KN97MME-q"
      },
      "source": [
        "# Splitting the dataset into the Training set and Test set\n",
        "from sklearn.model_selection import train_test_split\n",
        "X_train, X_test, y_train, y_test = train_test_split(X, y, test_size = 0.2, random_state = 0)"
      ],
      "execution_count": 12,
      "outputs": []
    },
    {
      "cell_type": "code",
      "metadata": {
        "id": "5T8vUWfRMIGt"
      },
      "source": [
        "# Feature Scaling\n",
        "from sklearn.preprocessing import StandardScaler\n",
        "sc = StandardScaler()\n",
        "X_train = sc.fit_transform(X_train)\n",
        "X_test = sc.transform(X_test)"
      ],
      "execution_count": 13,
      "outputs": []
    },
    {
      "cell_type": "code",
      "metadata": {
        "id": "yaIOOCyYMKoh"
      },
      "source": [
        "# Importing the Keras libraries and packages\n",
        "import keras\n",
        "from keras.models import Sequential\n",
        "from keras.layers import Dense\n",
        "from keras.layers import LeakyReLU,PReLU,ELU\n",
        "from keras.layers import Dropout"
      ],
      "execution_count": 14,
      "outputs": []
    },
    {
      "cell_type": "code",
      "metadata": {
        "id": "BwTQOxzOMRUZ"
      },
      "source": [
        "# Initialising the ANN\n",
        "classifier = Sequential()"
      ],
      "execution_count": 15,
      "outputs": []
    },
    {
      "cell_type": "code",
      "metadata": {
        "id": "NiDNu9W4SO8b"
      },
      "source": [
        "# Adding the input layer and the first hidden layer\n",
        "#classifier.add(Dense(output_dim = 6, init = 'he_uniform',activation='relu',input_dim = 11))\n",
        "classifier.add(Dense(units = 6, kernel_initializer = 'he_uniform',activation='relu',input_dim = 11))"
      ],
      "execution_count": 16,
      "outputs": []
    },
    {
      "cell_type": "code",
      "metadata": {
        "id": "aLqMKBwCSUeE"
      },
      "source": [
        "# Adding the second hidden layer\n",
        "classifier.add(Dense(units = 6, kernel_initializer = 'he_uniform',activation='relu'))"
      ],
      "execution_count": 17,
      "outputs": []
    },
    {
      "cell_type": "code",
      "metadata": {
        "id": "5gqYPiDSSXDz"
      },
      "source": [
        "# Adding the output layer\n",
        "classifier.add(Dense(units = 1, kernel_initializer = 'glorot_uniform', activation = 'sigmoid'))"
      ],
      "execution_count": 18,
      "outputs": []
    },
    {
      "cell_type": "code",
      "metadata": {
        "id": "Y3USyE4tScyl"
      },
      "source": [
        "# Compiling the ANN\n",
        "classifier.compile(optimizer = 'Adam', loss = 'binary_crossentropy', metrics = ['accuracy'])"
      ],
      "execution_count": 19,
      "outputs": []
    },
    {
      "cell_type": "code",
      "metadata": {
        "colab": {
          "base_uri": "https://localhost:8080/"
        },
        "id": "99JrJCYvSfwo",
        "outputId": "3e487292-556e-46a0-9be7-39dc00102fc4"
      },
      "source": [
        "# Fitting the ANN to the Training set\n",
        "model_history=classifier.fit(X_train, y_train, batch_size = 10,  epochs= 100)"
      ],
      "execution_count": 20,
      "outputs": [
        {
          "output_type": "stream",
          "name": "stdout",
          "text": [
            "Epoch 1/100\n",
            "800/800 [==============================] - 2s 1ms/step - loss: 0.4884 - accuracy: 0.7893\n",
            "Epoch 2/100\n",
            "800/800 [==============================] - 1s 1ms/step - loss: 0.4414 - accuracy: 0.7960\n",
            "Epoch 3/100\n",
            "800/800 [==============================] - 1s 1ms/step - loss: 0.4259 - accuracy: 0.7964\n",
            "Epoch 4/100\n",
            "800/800 [==============================] - 1s 1ms/step - loss: 0.4168 - accuracy: 0.8023\n",
            "Epoch 5/100\n",
            "800/800 [==============================] - 1s 1ms/step - loss: 0.4082 - accuracy: 0.8139\n",
            "Epoch 6/100\n",
            "800/800 [==============================] - 1s 1ms/step - loss: 0.3957 - accuracy: 0.8288\n",
            "Epoch 7/100\n",
            "800/800 [==============================] - 1s 1ms/step - loss: 0.3794 - accuracy: 0.8413\n",
            "Epoch 8/100\n",
            "800/800 [==============================] - 1s 1ms/step - loss: 0.3672 - accuracy: 0.8465\n",
            "Epoch 9/100\n",
            "800/800 [==============================] - 1s 1ms/step - loss: 0.3609 - accuracy: 0.8505\n",
            "Epoch 10/100\n",
            "800/800 [==============================] - 1s 1ms/step - loss: 0.3571 - accuracy: 0.8526\n",
            "Epoch 11/100\n",
            "800/800 [==============================] - 1s 1ms/step - loss: 0.3543 - accuracy: 0.8539\n",
            "Epoch 12/100\n",
            "800/800 [==============================] - 1s 1ms/step - loss: 0.3523 - accuracy: 0.8553\n",
            "Epoch 13/100\n",
            "800/800 [==============================] - 1s 1ms/step - loss: 0.3507 - accuracy: 0.8558\n",
            "Epoch 14/100\n",
            "800/800 [==============================] - 1s 1ms/step - loss: 0.3498 - accuracy: 0.8556\n",
            "Epoch 15/100\n",
            "800/800 [==============================] - 1s 1ms/step - loss: 0.3490 - accuracy: 0.8566\n",
            "Epoch 16/100\n",
            "800/800 [==============================] - 1s 1ms/step - loss: 0.3475 - accuracy: 0.8580\n",
            "Epoch 17/100\n",
            "800/800 [==============================] - 1s 1ms/step - loss: 0.3470 - accuracy: 0.8580\n",
            "Epoch 18/100\n",
            "800/800 [==============================] - 1s 1ms/step - loss: 0.3464 - accuracy: 0.8568\n",
            "Epoch 19/100\n",
            "800/800 [==============================] - 1s 1ms/step - loss: 0.3456 - accuracy: 0.8568\n",
            "Epoch 20/100\n",
            "800/800 [==============================] - 1s 1ms/step - loss: 0.3448 - accuracy: 0.8597\n",
            "Epoch 21/100\n",
            "800/800 [==============================] - 1s 1ms/step - loss: 0.3445 - accuracy: 0.8584\n",
            "Epoch 22/100\n",
            "800/800 [==============================] - 1s 1ms/step - loss: 0.3442 - accuracy: 0.8602\n",
            "Epoch 23/100\n",
            "800/800 [==============================] - 1s 1ms/step - loss: 0.3437 - accuracy: 0.8609\n",
            "Epoch 24/100\n",
            "800/800 [==============================] - 1s 1ms/step - loss: 0.3432 - accuracy: 0.8587\n",
            "Epoch 25/100\n",
            "800/800 [==============================] - 1s 1ms/step - loss: 0.3427 - accuracy: 0.8604\n",
            "Epoch 26/100\n",
            "800/800 [==============================] - 1s 1ms/step - loss: 0.3427 - accuracy: 0.8604\n",
            "Epoch 27/100\n",
            "800/800 [==============================] - 1s 1ms/step - loss: 0.3421 - accuracy: 0.8605\n",
            "Epoch 28/100\n",
            "800/800 [==============================] - 1s 1ms/step - loss: 0.3418 - accuracy: 0.8618\n",
            "Epoch 29/100\n",
            "800/800 [==============================] - 1s 1ms/step - loss: 0.3418 - accuracy: 0.8612\n",
            "Epoch 30/100\n",
            "800/800 [==============================] - 1s 1ms/step - loss: 0.3412 - accuracy: 0.8608\n",
            "Epoch 31/100\n",
            "800/800 [==============================] - 1s 1ms/step - loss: 0.3405 - accuracy: 0.8625\n",
            "Epoch 32/100\n",
            "800/800 [==============================] - 1s 1ms/step - loss: 0.3405 - accuracy: 0.8619\n",
            "Epoch 33/100\n",
            "800/800 [==============================] - 1s 1ms/step - loss: 0.3402 - accuracy: 0.8625\n",
            "Epoch 34/100\n",
            "800/800 [==============================] - 1s 1ms/step - loss: 0.3396 - accuracy: 0.8615\n",
            "Epoch 35/100\n",
            "800/800 [==============================] - 1s 1ms/step - loss: 0.3400 - accuracy: 0.8618\n",
            "Epoch 36/100\n",
            "800/800 [==============================] - 1s 1ms/step - loss: 0.3397 - accuracy: 0.8622\n",
            "Epoch 37/100\n",
            "800/800 [==============================] - 1s 1ms/step - loss: 0.3393 - accuracy: 0.8614\n",
            "Epoch 38/100\n",
            "800/800 [==============================] - 1s 1ms/step - loss: 0.3392 - accuracy: 0.8631\n",
            "Epoch 39/100\n",
            "800/800 [==============================] - 1s 1ms/step - loss: 0.3387 - accuracy: 0.8610\n",
            "Epoch 40/100\n",
            "800/800 [==============================] - 1s 1ms/step - loss: 0.3389 - accuracy: 0.8609\n",
            "Epoch 41/100\n",
            "800/800 [==============================] - 1s 1ms/step - loss: 0.3383 - accuracy: 0.8620\n",
            "Epoch 42/100\n",
            "800/800 [==============================] - 1s 1ms/step - loss: 0.3389 - accuracy: 0.8626\n",
            "Epoch 43/100\n",
            "800/800 [==============================] - 1s 1ms/step - loss: 0.3382 - accuracy: 0.8608\n",
            "Epoch 44/100\n",
            "800/800 [==============================] - 1s 1ms/step - loss: 0.3381 - accuracy: 0.8635\n",
            "Epoch 45/100\n",
            "800/800 [==============================] - 1s 1ms/step - loss: 0.3383 - accuracy: 0.8609\n",
            "Epoch 46/100\n",
            "800/800 [==============================] - 1s 1ms/step - loss: 0.3381 - accuracy: 0.8622\n",
            "Epoch 47/100\n",
            "800/800 [==============================] - 1s 1ms/step - loss: 0.3382 - accuracy: 0.8616\n",
            "Epoch 48/100\n",
            "800/800 [==============================] - 1s 1ms/step - loss: 0.3379 - accuracy: 0.8614\n",
            "Epoch 49/100\n",
            "800/800 [==============================] - 1s 1ms/step - loss: 0.3380 - accuracy: 0.8622\n",
            "Epoch 50/100\n",
            "800/800 [==============================] - 1s 1ms/step - loss: 0.3375 - accuracy: 0.8637\n",
            "Epoch 51/100\n",
            "800/800 [==============================] - 1s 1ms/step - loss: 0.3371 - accuracy: 0.8633\n",
            "Epoch 52/100\n",
            "800/800 [==============================] - 1s 1ms/step - loss: 0.3374 - accuracy: 0.8604\n",
            "Epoch 53/100\n",
            "800/800 [==============================] - 1s 1ms/step - loss: 0.3374 - accuracy: 0.8631\n",
            "Epoch 54/100\n",
            "800/800 [==============================] - 1s 1ms/step - loss: 0.3376 - accuracy: 0.8625\n",
            "Epoch 55/100\n",
            "800/800 [==============================] - 1s 1ms/step - loss: 0.3375 - accuracy: 0.8627\n",
            "Epoch 56/100\n",
            "800/800 [==============================] - 1s 1ms/step - loss: 0.3372 - accuracy: 0.8634\n",
            "Epoch 57/100\n",
            "800/800 [==============================] - 1s 1ms/step - loss: 0.3367 - accuracy: 0.8624\n",
            "Epoch 58/100\n",
            "800/800 [==============================] - 1s 1ms/step - loss: 0.3367 - accuracy: 0.8624\n",
            "Epoch 59/100\n",
            "800/800 [==============================] - 1s 1ms/step - loss: 0.3371 - accuracy: 0.8622\n",
            "Epoch 60/100\n",
            "800/800 [==============================] - 1s 1ms/step - loss: 0.3366 - accuracy: 0.8625\n",
            "Epoch 61/100\n",
            "800/800 [==============================] - 1s 1ms/step - loss: 0.3369 - accuracy: 0.8618\n",
            "Epoch 62/100\n",
            "800/800 [==============================] - 1s 1ms/step - loss: 0.3368 - accuracy: 0.8612\n",
            "Epoch 63/100\n",
            "800/800 [==============================] - 1s 1ms/step - loss: 0.3357 - accuracy: 0.8631\n",
            "Epoch 64/100\n",
            "800/800 [==============================] - 1s 1ms/step - loss: 0.3366 - accuracy: 0.8646\n",
            "Epoch 65/100\n",
            "800/800 [==============================] - 1s 1ms/step - loss: 0.3366 - accuracy: 0.8627\n",
            "Epoch 66/100\n",
            "800/800 [==============================] - 1s 1ms/step - loss: 0.3366 - accuracy: 0.8622\n",
            "Epoch 67/100\n",
            "800/800 [==============================] - 1s 1ms/step - loss: 0.3363 - accuracy: 0.8641\n",
            "Epoch 68/100\n",
            "800/800 [==============================] - 1s 1ms/step - loss: 0.3361 - accuracy: 0.8619\n",
            "Epoch 69/100\n",
            "800/800 [==============================] - 1s 1ms/step - loss: 0.3364 - accuracy: 0.8637\n",
            "Epoch 70/100\n",
            "800/800 [==============================] - 1s 1ms/step - loss: 0.3364 - accuracy: 0.8633\n",
            "Epoch 71/100\n",
            "800/800 [==============================] - 1s 1ms/step - loss: 0.3356 - accuracy: 0.8625\n",
            "Epoch 72/100\n",
            "800/800 [==============================] - 1s 1ms/step - loss: 0.3362 - accuracy: 0.8621\n",
            "Epoch 73/100\n",
            "800/800 [==============================] - 1s 1ms/step - loss: 0.3361 - accuracy: 0.8643\n",
            "Epoch 74/100\n",
            "800/800 [==============================] - 1s 1ms/step - loss: 0.3353 - accuracy: 0.8624\n",
            "Epoch 75/100\n",
            "800/800 [==============================] - 1s 1ms/step - loss: 0.3357 - accuracy: 0.8619\n",
            "Epoch 76/100\n",
            "800/800 [==============================] - 1s 1ms/step - loss: 0.3354 - accuracy: 0.8625\n",
            "Epoch 77/100\n",
            "800/800 [==============================] - 1s 1ms/step - loss: 0.3361 - accuracy: 0.8635\n",
            "Epoch 78/100\n",
            "800/800 [==============================] - 1s 1ms/step - loss: 0.3358 - accuracy: 0.8609\n",
            "Epoch 79/100\n",
            "800/800 [==============================] - 1s 1ms/step - loss: 0.3357 - accuracy: 0.8639\n",
            "Epoch 80/100\n",
            "800/800 [==============================] - 1s 1ms/step - loss: 0.3352 - accuracy: 0.8619\n",
            "Epoch 81/100\n",
            "800/800 [==============================] - 1s 1ms/step - loss: 0.3343 - accuracy: 0.8618\n",
            "Epoch 82/100\n",
            "800/800 [==============================] - 1s 1ms/step - loss: 0.3357 - accuracy: 0.8631\n",
            "Epoch 83/100\n",
            "800/800 [==============================] - 1s 1ms/step - loss: 0.3353 - accuracy: 0.8633\n",
            "Epoch 84/100\n",
            "800/800 [==============================] - 1s 1ms/step - loss: 0.3349 - accuracy: 0.8639\n",
            "Epoch 85/100\n",
            "800/800 [==============================] - 1s 1ms/step - loss: 0.3350 - accuracy: 0.8620\n",
            "Epoch 86/100\n",
            "800/800 [==============================] - 1s 1ms/step - loss: 0.3352 - accuracy: 0.8620\n",
            "Epoch 87/100\n",
            "800/800 [==============================] - 1s 1ms/step - loss: 0.3350 - accuracy: 0.8626\n",
            "Epoch 88/100\n",
            "800/800 [==============================] - 1s 1ms/step - loss: 0.3353 - accuracy: 0.8622\n",
            "Epoch 89/100\n",
            "800/800 [==============================] - 1s 1ms/step - loss: 0.3348 - accuracy: 0.8618\n",
            "Epoch 90/100\n",
            "800/800 [==============================] - 1s 1ms/step - loss: 0.3353 - accuracy: 0.8621\n",
            "Epoch 91/100\n",
            "800/800 [==============================] - 1s 1ms/step - loss: 0.3349 - accuracy: 0.8615\n",
            "Epoch 92/100\n",
            "800/800 [==============================] - 1s 1ms/step - loss: 0.3352 - accuracy: 0.8629\n",
            "Epoch 93/100\n",
            "800/800 [==============================] - 1s 1ms/step - loss: 0.3345 - accuracy: 0.8635\n",
            "Epoch 94/100\n",
            "800/800 [==============================] - 1s 1ms/step - loss: 0.3344 - accuracy: 0.8625\n",
            "Epoch 95/100\n",
            "800/800 [==============================] - 1s 1ms/step - loss: 0.3348 - accuracy: 0.8621\n",
            "Epoch 96/100\n",
            "800/800 [==============================] - 1s 1ms/step - loss: 0.3346 - accuracy: 0.8631\n",
            "Epoch 97/100\n",
            "800/800 [==============================] - 1s 1ms/step - loss: 0.3345 - accuracy: 0.8605\n",
            "Epoch 98/100\n",
            "800/800 [==============================] - 1s 1ms/step - loss: 0.3348 - accuracy: 0.8629\n",
            "Epoch 99/100\n",
            "800/800 [==============================] - 1s 1ms/step - loss: 0.3343 - accuracy: 0.8630\n",
            "Epoch 100/100\n",
            "800/800 [==============================] - 1s 1ms/step - loss: 0.3343 - accuracy: 0.8624\n"
          ]
        }
      ]
    },
    {
      "cell_type": "code",
      "metadata": {
        "colab": {
          "base_uri": "https://localhost:8080/"
        },
        "id": "uvy3nvs_SjIR",
        "outputId": "f069b278-568c-47a3-d040-aad3e45039f5"
      },
      "source": [
        "X_train.shape"
      ],
      "execution_count": 21,
      "outputs": [
        {
          "output_type": "execute_result",
          "data": {
            "text/plain": [
              "(8000, 11)"
            ]
          },
          "metadata": {},
          "execution_count": 21
        }
      ]
    },
    {
      "cell_type": "code",
      "metadata": {
        "colab": {
          "base_uri": "https://localhost:8080/",
          "height": 295
        },
        "id": "m3ybwvnQTS1P",
        "outputId": "e9f29e31-7dfb-478c-e501-19d7a4232f4f"
      },
      "source": [
        "# summarize history for loss\n",
        "plt.plot(model_history.history['loss'])\n",
        "\n",
        "plt.title('model loss')\n",
        "plt.ylabel('loss')\n",
        "plt.xlabel('epoch')\n",
        "plt.legend(['train'], loc='upper left')\n",
        "plt.show()"
      ],
      "execution_count": 22,
      "outputs": [
        {
          "output_type": "display_data",
          "data": {
            "image/png": "[encoded data removed]",
            "text/plain": [
              "<Figure size 432x288 with 1 Axes>"
            ]
          },
          "metadata": {
            "needs_background": "light"
          }
        }
      ]
    },
    {
      "cell_type": "code",
      "metadata": {
        "id": "rxWOBVgXTWsY"
      },
      "source": [
        "# Predicting the Test set results\n",
        "y_pred = classifier.predict(X_test)\n",
        "y_pred = (y_pred > 0.5)"
      ],
      "execution_count": 23,
      "outputs": []
    },
    {
      "cell_type": "code",
      "metadata": {
        "colab": {
          "base_uri": "https://localhost:8080/"
        },
        "id": "Ad025wM2TeBO",
        "outputId": "9302c114-c2d4-4e0f-d158-2eaebbf835a7"
      },
      "source": [
        "# Making the Confusion Matrix\n",
        "from sklearn.metrics import confusion_matrix\n",
        "cm = confusion_matrix(y_test, y_pred)\n",
        "print(cm)"
      ],
      "execution_count": 24,
      "outputs": [
        {
          "output_type": "stream",
          "name": "stdout",
          "text": [
            "[[1505   90]\n",
            " [ 193  212]]\n"
          ]
        }
      ]
    },
    {
      "cell_type": "code",
      "metadata": {
        "id": "dcHrufKNTgy2"
      },
      "source": [
        "# Calculate the Accuracy\n",
        "from sklearn.metrics import accuracy_score\n",
        "score=accuracy_score(y_pred,y_test)"
      ],
      "execution_count": 25,
      "outputs": []
    },
    {
      "cell_type": "code",
      "metadata": {
        "colab": {
          "base_uri": "https://localhost:8080/"
        },
        "id": "xxJLGxv_Tjvs",
        "outputId": "9f6cb0a2-2eb6-4c30-9d4e-e0414c318764"
      },
      "source": [
        "score"
      ],
      "execution_count": 26,
      "outputs": [
        {
          "output_type": "execute_result",
          "data": {
            "text/plain": [
              "0.8585"
            ]
          },
          "metadata": {},
          "execution_count": 26
        }
      ]
    },
    {
      "cell_type": "code",
      "metadata": {
        "id": "Tkp1awXPTnEb"
      },
      "source": [
        ""
      ],
      "execution_count": null,
      "outputs": []
    }
  ]
}